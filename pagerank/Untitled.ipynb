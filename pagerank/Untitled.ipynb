{
 "cells": [
  {
   "cell_type": "markdown",
   "id": "70676afb",
   "metadata": {},
   "source": [
    "# Imports"
   ]
  },
  {
   "cell_type": "code",
   "execution_count": 2,
   "id": "b202ddb2",
   "metadata": {},
   "outputs": [],
   "source": [
    "import pandas as pd\n",
    "import subprocess\n",
    "import time\n",
    "from tqdm import tqdm\n",
    "import numpy as np\n",
    "import matplotlib.pyplot as plt"
   ]
  },
  {
   "cell_type": "markdown",
   "id": "44c8e2d3",
   "metadata": {},
   "source": [
    "# Configuration"
   ]
  },
  {
   "cell_type": "code",
   "execution_count": 3,
   "id": "a78b1434",
   "metadata": {},
   "outputs": [],
   "source": [
    "PAGERANK_PATH = \"/Users/nacarratala/Docu9ments/facultad/metodos-tp1/pagerank/build/pagerank\"\n",
    "READ_MODE = \"r\""
   ]
  },
  {
   "cell_type": "markdown",
   "id": "e9f58775",
   "metadata": {},
   "source": [
    "# C++ functions utils"
   ]
  },
  {
   "cell_type": "code",
   "execution_count": 37,
   "id": "cf202102",
   "metadata": {},
   "outputs": [],
   "source": [
    "def executePageRank(inputFile, p):\n",
    "    process = subprocess.run([PAGERANK_PATH, inputFile, p])\n",
    "\n",
    "def checkOutputFile(outputPATH, expectedPATH, epsilon):\n",
    "    output = open(outputPATH, READ_MODE).readlines()\n",
    "    expected = open(expectedPATH, READ_MODE).readlines()\n",
    "    \n",
    "    if len(output) != len(expected):\n",
    "        return 'ERROR: size does not match.' \n",
    "    else:\n",
    "        ans = True\n",
    "        for line in range(len(output)):\n",
    "            if not hasMinimunError(float(output[line]), float(expected[line]), epsilon):\n",
    "                return 'ERROR: value does not match.' \n",
    "    output.close()\n",
    "    expected.close()\n",
    "\n",
    "def hasMinimunError(actualValue, expectedValue, epsilon):\n",
    "    if (actualValue - epsilon > expectedValue + epsilon or actualValue + epsilon < expectedValue - epsilon):\n",
    "        return False\n",
    "    return True"
   ]
  },
  {
   "cell_type": "markdown",
   "id": "5b8fe9be",
   "metadata": {},
   "source": [
    "# Tests"
   ]
  },
  {
   "cell_type": "code",
   "execution_count": 4,
   "id": "aa44d70d",
   "metadata": {},
   "outputs": [],
   "source": [
    "dataset = pd.read_csv('/Users/nacarratala/Documents/facultad/metodos-tp1/pagerank/datasets/test_5x5.txt', sep=\" \", names=['src', 'dst'], skiprows=2)"
   ]
  },
  {
   "cell_type": "code",
   "execution_count": 39,
   "id": "b7db8be7",
   "metadata": {},
   "outputs": [
    {
     "name": "stdout",
     "output_type": "stream",
     "text": [
      "   src  dst\n",
      "0    1    2\n",
      "1    1    3\n",
      "2    1    4\n",
      "3    1    5\n",
      "4    2    4\n",
      "5    2    5\n",
      "6    3    4\n",
      "7    4    3\n",
      "8    5    4\n"
     ]
    }
   ],
   "source": [
    "print(dataset)"
   ]
  },
  {
   "cell_type": "code",
   "execution_count": 40,
   "id": "f9c6dce2",
   "metadata": {},
   "outputs": [],
   "source": [
    "testPATH = '/Users/nacarratala/Documents/facultad/metodos-tp1/pagerank/datasets/'\n",
    "\n",
    "tests = ['test_5x5.txt']\n",
    "\n",
    "error = 1e-4"
   ]
  },
  {
   "cell_type": "code",
   "execution_count": 41,
   "id": "e6c397e5",
   "metadata": {},
   "outputs": [],
   "source": [
    "for i in range(len(tests)):\n",
    "    runMethod(testPATH + tests[i], \"0.5\")\n"
   ]
  },
  {
   "cell_type": "code",
   "execution_count": null,
   "id": "352b3d66",
   "metadata": {},
   "outputs": [],
   "source": []
  },
  {
   "cell_type": "code",
   "execution_count": null,
   "id": "691e04ec",
   "metadata": {},
   "outputs": [],
   "source": []
  }
 ],
 "metadata": {
  "kernelspec": {
   "display_name": "Python 3 (ipykernel)",
   "language": "python",
   "name": "python3"
  },
  "language_info": {
   "codemirror_mode": {
    "name": "ipython",
    "version": 3
   },
   "file_extension": ".py",
   "mimetype": "text/x-python",
   "name": "python",
   "nbconvert_exporter": "python",
   "pygments_lexer": "ipython3",
   "version": "3.8.9"
  }
 },
 "nbformat": 4,
 "nbformat_minor": 5
}
